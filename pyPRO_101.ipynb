{
 "cells": [
  {
   "cell_type": "markdown",
   "metadata": {},
   "source": [
    "# Introduction to python for Data Science \n",
    "\n",
    "Before we jump into codes, lets see some of the cool staff that people with data science skills do. We all have heard the trendy notion that data science is one of the *sexiest* career in the 21st centuary. Well, i thing the fuel ofthis trendy notion are is the infite and amazing thing that data scientist are doing with data. So, What Data Science Roles are Out There?\n",
    "1. **Business Intelligence Analyst**.-A BI analyst uses data to help figure out market and business trends by analyzing data to develop a clearer picture of where the company stands.\n",
    "2. **Data Mining Engineer**. The data mining engineer examines not only the data for their own business but also that of third parties. In addition to analyzing data, a data mining engineer will create sophisticated algorithms to help analyze the data further.\n",
    "3. **Data Architect** -Data architects work closely with users, system designers, and developers to create blueprints that data management systems use to centralize, integrate, maintain, and protect data sources\n",
    "4. **Data Scientist**-Data scientists begin by translating a business case into an analytics agenda, developing hypotheses, and understanding data—as well as exploring patterns to measure what impact they will have on businesses. They also find and choose algorithms to help further analyze data. They use business analytics to not only explain what effect the data is going to have on a company in the future but can also help devise solutions that will help the company to move forward\n",
    "\n",
    "### Now, lets talk about Python\n",
    "python is one of the widely used data science tool in the world to day. According to its creator, *Guido van Rossum*, Python is a:\n",
    "**“high-level programming language, and its core design philosophy is all about code readability and a syntax which allows programmers to express concepts in a few lines of code.”**\n",
    "\n",
    "#### As a data scientist, why should you learn python.\n",
    "1. Very easy To learn. Readable syntax, available resources and ineractive IDEs\n",
    "2. Data Science Libraries.\n",
    "3. Python community\n",
    "4. Multipurpose Language\n",
    "\n",
    "😎🤩 🤩 🤩 🤩 🤩 🤩 😎\n",
    "\n",
    "Lets now do some basics"
   ]
  },
  {
   "cell_type": "markdown",
   "metadata": {},
   "source": [
    "##### Key Notes\n",
    "- Python is Key/case sensitive \n",
    "- Python indexing starts from **0** not *1*\n",
    "- Python prints from top to bottom\n",
    "- Use # for comments\n",
    "- use the function print to show the output\n",
    "- U can convert the jupyter document into markdown and embade latex functions . \n",
    "eg $$\\bar{X}=\\frac{\\sum_{i=1}^{n}X_i}{n} $$\n",
    "\n",
    "- Modules--\n",
    "A Python module is a collection of related classes and functions. We have modules for mathematical calculations, string manipulations, web programming, and many more. We will discuss Python Module in detail in a later lesson.\n",
    "\n",
    "- Packages--\n",
    "Python package is a collection of related modules. You can either import a package or create your own"
   ]
  },
  {
   "cell_type": "markdown",
   "metadata": {},
   "source": [
    "#### 1. Python as a calculator\n",
    "Python can be used as a calculator. It follows the logic of *BODMAS*-- point of confirmation"
   ]
  },
  {
   "cell_type": "code",
   "execution_count": null,
   "metadata": {},
   "outputs": [],
   "source": [
    "1+1"
   ]
  },
  {
   "cell_type": "code",
   "execution_count": null,
   "metadata": {},
   "outputs": [],
   "source": [
    "20*5/4"
   ]
  },
  {
   "cell_type": "code",
   "execution_count": null,
   "metadata": {},
   "outputs": [],
   "source": [
    "## Square \n",
    "## Use double asterisk symbols ** for power\n",
    "3**3"
   ]
  },
  {
   "cell_type": "code",
   "execution_count": null,
   "metadata": {},
   "outputs": [],
   "source": [
    "int((5464+455)/656)"
   ]
  },
  {
   "cell_type": "code",
   "execution_count": null,
   "metadata": {},
   "outputs": [],
   "source": [
    "import math\n",
    "import numpy as np"
   ]
  },
  {
   "cell_type": "code",
   "execution_count": null,
   "metadata": {},
   "outputs": [],
   "source": [
    "math.sqrt(5456)"
   ]
  },
  {
   "cell_type": "code",
   "execution_count": null,
   "metadata": {},
   "outputs": [],
   "source": [
    "math.sin(45)"
   ]
  },
  {
   "cell_type": "code",
   "execution_count": null,
   "metadata": {},
   "outputs": [],
   "source": [
    "math.log(12.3)"
   ]
  },
  {
   "cell_type": "markdown",
   "metadata": {},
   "source": [
    "#### Variables\n",
    "You can simply think of a variable as a word that stores a value. Simple as that:\n",
    "\n",
    "In python you assign variable using $=$ symbol"
   ]
  },
  {
   "cell_type": "code",
   "execution_count": null,
   "metadata": {},
   "outputs": [],
   "source": [
    "X=5\n",
    "y=10\n",
    "\n",
    "print (X)\n",
    "print (y)\n",
    "print(X*y)\n",
    "print(X**2)"
   ]
  },
  {
   "cell_type": "code",
   "execution_count": null,
   "metadata": {},
   "outputs": [],
   "source": [
    "## string Variables\n",
    "x='David'\n",
    "y='Muturi'\n",
    "\n",
    "print(x)\n",
    "print(y)\n",
    "print(x+' '+y)\n",
    "\n",
    "## Conver a string into numerics\n",
    "#use the function str()\n",
    "print(x+str(X))"
   ]
  },
  {
   "cell_type": "markdown",
   "metadata": {},
   "source": [
    "Double assignment and Swapping values"
   ]
  },
  {
   "cell_type": "code",
   "execution_count": null,
   "metadata": {},
   "outputs": [],
   "source": [
    "a,b=10,20\n",
    "\n",
    "print(a)\n",
    "print(b)"
   ]
  },
  {
   "cell_type": "code",
   "execution_count": null,
   "metadata": {},
   "outputs": [],
   "source": [
    "## Swaping\n",
    "a,b=b,a\n",
    "\n",
    "print(a)\n",
    "print(b)"
   ]
  },
  {
   "cell_type": "code",
   "execution_count": null,
   "metadata": {},
   "outputs": [],
   "source": [
    "### Traditional swaping \n",
    "a=1\n",
    "b=2\n",
    "\n",
    "# introduce a temporary variable, name it temp\n",
    "temp=a\n",
    "a=b\n",
    "b=temp\n",
    "\n",
    "## Printing the swapped values\n",
    "print(a)\n",
    "print(b)"
   ]
  },
  {
   "cell_type": "markdown",
   "metadata": {},
   "source": [
    "#### 2. List: Collection | Array | Data Structure( aka dictionaries)\n",
    "\n",
    "- **List** is a collection that can be used to store a list of values\n",
    "\n",
    "use  [ ] to create lists"
   ]
  },
  {
   "cell_type": "code",
   "execution_count": null,
   "metadata": {},
   "outputs": [],
   "source": [
    "list_1=[1,2,3,4,5,6]\n",
    "list_2=[10,20,30,40,50,60]\n",
    "list_3=[2,'four',6,'eight',10]\n",
    "\n",
    "print(list_1)\n",
    "print(list_2)\n",
    "print(list_1+list_2) # Appending a list into another list\n",
    "print(list_3)"
   ]
  },
  {
   "cell_type": "code",
   "execution_count": null,
   "metadata": {},
   "outputs": [],
   "source": [
    "## Slicing using []\n",
    "my_list=list_1+list_2 \n",
    "\n",
    "print(my_list)\n",
    "print(my_list[0])## Select the first item\n",
    "print(my_list[3])## select the fourth\n",
    "print(my_list[-1])# select the last item\n",
    "print(my_list[:-3])# select everything exept the last 3 items"
   ]
  },
  {
   "cell_type": "markdown",
   "metadata": {},
   "source": [
    "- **Dictionary: Key-Value Data Structure**\n",
    "\n",
    "Now we know that Lists are indexed with integer numbers.  What if we don’t want to use integer numbers as indices? Some data structures that we can use are numeric, string, or other types of indices.\n",
    "\n",
    "This data structures are called dictionaries"
   ]
  },
  {
   "cell_type": "code",
   "execution_count": null,
   "metadata": {},
   "outputs": [],
   "source": [
    "my_dictionary1 = {\n",
    "  \"key1\": \"value1\",\n",
    "  \"key2\": \"value2\",\n",
    "  \"key3\": \"value3\"\n",
    "}"
   ]
  },
  {
   "cell_type": "code",
   "execution_count": null,
   "metadata": {},
   "outputs": [],
   "source": [
    "my_dictionary1"
   ]
  },
  {
   "cell_type": "markdown",
   "metadata": {},
   "source": [
    "The key is the index pointing to the value.\n",
    "\n",
    "How do we access the dictionary value... we use the key "
   ]
  },
  {
   "cell_type": "code",
   "execution_count": null,
   "metadata": {},
   "outputs": [],
   "source": [
    "my_dictionary2={\n",
    "    \"name\": \"David\",\n",
    "    \"class\": \"pyPRO\",\n",
    "    \"city\": \"Thika\"\n",
    "}\n",
    "print(my_dictionary2['name'])# selecting the first value\n",
    "print(my_dictionary2['class'])\n",
    "print(my_dictionary2['city'])"
   ]
  },
  {
   "cell_type": "code",
   "execution_count": null,
   "metadata": {},
   "outputs": [],
   "source": [
    "## adding  and removing a value in the dictionary\n",
    "my_dictionary2['work']='data science'\n",
    "del my_dictionary2['name']\n",
    "my_dictionary2"
   ]
  },
  {
   "cell_type": "markdown",
   "metadata": {},
   "source": [
    "#### Control Flow: conditional statements\n",
    "“If” uses an expression to evaluate whether a statement is True or False. If it is True, it executes what is inside the “if” statement. For example:"
   ]
  },
  {
   "cell_type": "code",
   "execution_count": null,
   "metadata": {},
   "outputs": [],
   "source": [
    "if True:\n",
    "    print ('Hello Python ')"
   ]
  },
  {
   "cell_type": "code",
   "execution_count": null,
   "metadata": {},
   "outputs": [],
   "source": [
    "a=2\n",
    "b=2\n",
    "\n",
    "if a>b:\n",
    "    print ('A is greater')\n",
    "elif a<b:\n",
    "    print ('B is greater')\n",
    "else:\n",
    "    print ('A is equal to B')"
   ]
  },
  {
   "cell_type": "code",
   "execution_count": null,
   "metadata": {},
   "outputs": [],
   "source": [
    "a=input('Did you enjoy the lesson? ')\n",
    "if a=='yes' or a=='Yes' or a=='YES':\n",
    "    print('Amazing. !!')\n",
    "    print('Lets meet in the next one.. :)')\n",
    "elif a=='no' or a=='No' or a=='NO':\n",
    "    print('Sorry !!')\n",
    "    print('What should we do to improve the next class.')\n",
    "    print('Kindly talk to the tutor..')\n",
    "else:\n",
    "    print('answer with either Yes or No only')\n",
    "    "
   ]
  },
  {
   "cell_type": "code",
   "execution_count": null,
   "metadata": {},
   "outputs": [],
   "source": []
  }
 ],
 "metadata": {
  "kernelspec": {
   "display_name": "Python 3",
   "language": "python",
   "name": "python3"
  },
  "language_info": {
   "codemirror_mode": {
    "name": "ipython",
    "version": 3
   },
   "file_extension": ".py",
   "mimetype": "text/x-python",
   "name": "python",
   "nbconvert_exporter": "python",
   "pygments_lexer": "ipython3",
   "version": "3.7.3"
  }
 },
 "nbformat": 4,
 "nbformat_minor": 2
}
