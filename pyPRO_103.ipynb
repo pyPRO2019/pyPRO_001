{
 "cells": [
  {
   "cell_type": "markdown",
   "metadata": {},
   "source": [
    "## Python Functions\n",
    "\n",
    "A function is an organized reusable piece of code solving a specific task. Functions help us to keep our code clean and provide us with the power of code reusability.\n",
    "\n",
    "#### Python built in functions\n",
    "Python has several built-into functions which are always available. Some of these functions are print and max. Let’s see some examples of how we can use them\n",
    "\n",
    "[Study Pthon links Here](https://docs.python.org/3/library/functions.html#built-in-functions)"
   ]
  },
  {
   "cell_type": "code",
   "execution_count": null,
   "metadata": {},
   "outputs": [],
   "source": [
    "### Sample in built functions\n",
    "## Some of the most common functions\n",
    "print(\"Helloo\")\n",
    "max(2,5,0.5) \n",
    "min(2,0.001,45)\n",
    "len([2,3,5,9])\n",
    "sum(2,3,5,9)\n",
    "sorted([2,15,5,9])\n",
    "list()\n",
    "range()\n",
    "type({\"x\":[2,15,5,9]})\n",
    "round(15.24566,2)\n",
    "input()\n",
    "int()"
   ]
  },
  {
   "cell_type": "code",
   "execution_count": null,
   "metadata": {},
   "outputs": [],
   "source": [
    "print(\"Helloo 254\", 5+5)### Printing bot he strings and numerics"
   ]
  },
  {
   "cell_type": "code",
   "execution_count": null,
   "metadata": {},
   "outputs": [],
   "source": [
    "list(range(8,50)) ### the last argument is not incleded in the python lrange fanction"
   ]
  },
  {
   "cell_type": "code",
   "execution_count": null,
   "metadata": {},
   "outputs": [],
   "source": [
    "## Using the type function\n",
    "a=[2,3,5,9]\n",
    "b={\"x\":[2,15,5,9]}\n",
    "\n",
    "print(type(a))\n",
    "print(type(b))"
   ]
  },
  {
   "cell_type": "code",
   "execution_count": null,
   "metadata": {},
   "outputs": [],
   "source": [
    "round(2.931,2)## First argument is the number you want to round off, the second is the number of decimals"
   ]
  },
  {
   "cell_type": "code",
   "execution_count": null,
   "metadata": {},
   "outputs": [],
   "source": [
    "## User defined variable using input function\n",
    "inpt=input(\"Enter your name \")\n",
    "inpt"
   ]
  },
  {
   "cell_type": "markdown",
   "metadata": {},
   "source": [
    "##### User-Defined Functions\n",
    "sometimes we need functionality specific to our needs. In these cases, we can define our own functions.\n",
    "\n",
    "To define a function we need to follow these rules:\n",
    "1. Use the keyword **def** to introduce a function definition\n",
    "2. Write the function name followed by **_parentheses () and a colon:_**\n",
    "3. Define a list of parameters inside these **parentheses** (optional)\n",
    "4. Write the function body. The statements that form the function body, start at the next line and must be intended. When the function is called the code in the function body is run.\n",
    "5. The first statement of the function body can be a string literal which represents the function documentation (optional)\n",
    "6. Use the **return** keyword to pass back a result to the caller (optional)"
   ]
  },
  {
   "cell_type": "markdown",
   "metadata": {},
   "source": [
    "##### Defining a Function Without Parameters\n",
    "lets write a fuction when called returns some greeting."
   ]
  },
  {
   "cell_type": "code",
   "execution_count": null,
   "metadata": {},
   "outputs": [],
   "source": [
    "## A function without arguments\n",
    "\n",
    "def greeting():\n",
    "    print(\"Hello, Good Evening!  :)\")\n"
   ]
  },
  {
   "cell_type": "code",
   "execution_count": null,
   "metadata": {},
   "outputs": [],
   "source": [
    "greeting()"
   ]
  },
  {
   "cell_type": "code",
   "execution_count": null,
   "metadata": {},
   "outputs": [],
   "source": [
    "### A function that prints out what the user inputs\n",
    "def print_function():\n",
    "    text=input(\"Enter  anything:    \")\n",
    "    print (text)"
   ]
  },
  {
   "cell_type": "code",
   "execution_count": null,
   "metadata": {},
   "outputs": [],
   "source": [
    "print_function()"
   ]
  },
  {
   "cell_type": "code",
   "execution_count": null,
   "metadata": {},
   "outputs": [],
   "source": [
    "### A function with two arguments\n",
    "#### The message aregument is by defult good morning\n",
    "## Its therefore optional\n",
    "\n",
    "def greet(name, msg = \"Good morning!\"):\n",
    "   \"\"\"\n",
    "   This function greets to\n",
    "   the person with the\n",
    "   provided message.\n",
    "\n",
    "   If message is not provided,\n",
    "   it defaults to \"Good\n",
    "   morning!\"\n",
    "   \"\"\"\n",
    "\n",
    "   print(\"Hello\",name + ', ' + msg)\n",
    "\n"
   ]
  },
  {
   "cell_type": "code",
   "execution_count": null,
   "metadata": {},
   "outputs": [],
   "source": [
    "greet(\"David\")"
   ]
  },
  {
   "cell_type": "code",
   "execution_count": null,
   "metadata": {},
   "outputs": [],
   "source": [
    "### To return current date time \n",
    "import datetime # importing the \"datetime\" module\n",
    "\n",
    "def current_date():\n",
    "    date_now = datetime.datetime.now().date()\n",
    "    print(date_now)\n",
    "\n",
    "    \n",
    "def current_time():\n",
    "    time_now = datetime.datetime.now().time()\n",
    "    print(time_now)\n"
   ]
  },
  {
   "cell_type": "code",
   "execution_count": null,
   "metadata": {},
   "outputs": [],
   "source": [
    "current_date()"
   ]
  },
  {
   "cell_type": "code",
   "execution_count": null,
   "metadata": {},
   "outputs": [],
   "source": [
    "current_time():"
   ]
  },
  {
   "cell_type": "markdown",
   "metadata": {},
   "source": [
    "#### Functions with one parameter"
   ]
  },
  {
   "cell_type": "code",
   "execution_count": null,
   "metadata": {},
   "outputs": [],
   "source": [
    "def print_message(text):\n",
    "    print(text)\n",
    "print_message('hello')"
   ]
  },
  {
   "cell_type": "markdown",
   "metadata": {},
   "source": [
    "Multiple Parameters Example"
   ]
  },
  {
   "cell_type": "code",
   "execution_count": null,
   "metadata": {},
   "outputs": [],
   "source": [
    "def additional(number1, number2):\n",
    "    print(number1 + number2)\n",
    "additional(12,14)"
   ]
  },
  {
   "cell_type": "code",
   "execution_count": null,
   "metadata": {},
   "outputs": [],
   "source": [
    "def powr(a,b):\n",
    "    c=a**b\n",
    "    print (c)"
   ]
  },
  {
   "cell_type": "code",
   "execution_count": null,
   "metadata": {},
   "outputs": [],
   "source": [
    "powr(5,3)"
   ]
  },
  {
   "cell_type": "code",
   "execution_count": null,
   "metadata": {},
   "outputs": [],
   "source": [
    "def plus(*args):\n",
    "  # Local variable `sum()`\n",
    "  total = 0\n",
    "  for i in args:\n",
    "    total += i### total=total+1\n",
    "  return total"
   ]
  },
  {
   "cell_type": "code",
   "execution_count": null,
   "metadata": {},
   "outputs": [],
   "source": [
    "plus(2,3,4,5,6,7,8,9)"
   ]
  },
  {
   "cell_type": "code",
   "execution_count": null,
   "metadata": {},
   "outputs": [],
   "source": [
    "# list of alphabets\n",
    "alphabets = ['a', 'b', 'd', 'e', 'i', 'j', 'o']\n",
    " \n",
    "# function that filters vowels\n",
    "def filterVowels(alphabet):\n",
    "    vowels = ['a', 'e', 'i', 'o', 'u']\n",
    " \n",
    "    if(alphabet in vowels):\n",
    "        return True\n",
    "    else:\n",
    "        return False\n",
    " \n",
    "\n"
   ]
  },
  {
   "cell_type": "code",
   "execution_count": null,
   "metadata": {},
   "outputs": [],
   "source": [
    "### Appying the filterVowels function\n",
    "## Note the use of the inbuilt filter function\n",
    "filteredVowels = filter(filterVowels, alphabets)\n",
    "for vowel in filteredVowels:\n",
    "    print(vowel)"
   ]
  },
  {
   "cell_type": "code",
   "execution_count": null,
   "metadata": {},
   "outputs": [],
   "source": [
    "for i in filter(None,['a','c']):\n",
    "    print (i)"
   ]
  },
  {
   "cell_type": "markdown",
   "metadata": {},
   "source": [
    "#### The answer to the dice challange"
   ]
  },
  {
   "cell_type": "code",
   "execution_count": null,
   "metadata": {},
   "outputs": [],
   "source": [
    "from random import randint ## to generate random integers\n",
    "from time import sleep ### To sleep or pause the program\n",
    "\n",
    "playerOneWins = 0\n",
    "playerTwoWins = 0\n",
    "\n",
    "for i in range(5): ## To loop for 5 times\n",
    "    print(\"Player 1 it's your turn.         Type 'roll' to roll the dice or 'quit' to forfeit. \")\n",
    "    userOneInput = input(\">>>\")\n",
    "    if userOneInput == \"roll\":\n",
    "        valueOne = randint(1,6)\n",
    "        print(\"Player 1 rolled \", valueOne)\n",
    "        print(\" Player 2 it's your turn.         Type 'roll' to roll the dice or 'quit' to forfeit. \")\n",
    "        userTwoInput = input(\">>>\")\n",
    "        if userTwoInput == \"roll\":\n",
    "            valueTwo = randint(1,6)\n",
    "            print(\"Player 2 rolled \",  valueTwo)\n",
    "            if valueOne > valueTwo:\n",
    "                print(\"Player 1 wins this round! \")\n",
    "                playerOneWins += 1\n",
    "            elif valueOne == valueTwo:\n",
    "                print(\"It's a draw! \")\n",
    "            else:\n",
    "                print(\"Player 2 wins this round;\")\n",
    "                playerTwoWins += 1 \n",
    "        elif userTwoInput == \"quit\":\n",
    "            print(\"Player 1 wins this round! \")\n",
    "            playerOneWins += 1\n",
    "        else:\n",
    "            print(\"Program ended abruptly\")\n",
    "            break\n",
    "    elif userOneInput == \"quit\":\n",
    "        print (\"Player 2 wins this round! \")\n",
    "        playerTwoWins += 1\n",
    "    else:\n",
    "        print(\"Program ended abruptly. \")\n",
    "        break\n",
    "    \n",
    "    sleep(2)\n",
    "    \n",
    "\n",
    "print(\"Final results: \", playerOneWins, \"- - - -\", playerTwoWins)\n",
    "if playerOneWins > playerTwoWins:\n",
    "    print(\"Player 1 is the winner! \")\n",
    "elif playerOneWins == playerTwoWins:\n",
    "    print(\"It's a draw! \")\n",
    "else:\n",
    "    print(\"Player 2 is the winner! \")"
   ]
  },
  {
   "cell_type": "code",
   "execution_count": null,
   "metadata": {},
   "outputs": [],
   "source": []
  }
 ],
 "metadata": {
  "kernelspec": {
   "display_name": "Python 3",
   "language": "python",
   "name": "python3"
  },
  "language_info": {
   "codemirror_mode": {
    "name": "ipython",
    "version": 3
   },
   "file_extension": ".py",
   "mimetype": "text/x-python",
   "name": "python",
   "nbconvert_exporter": "python",
   "pygments_lexer": "ipython3",
   "version": "3.7.3"
  }
 },
 "nbformat": 4,
 "nbformat_minor": 2
}
