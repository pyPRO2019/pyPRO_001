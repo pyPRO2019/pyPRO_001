{
 "cells": [
  {
   "cell_type": "markdown",
   "metadata": {},
   "source": [
    "# Introduction to Python for Data Science\n",
    "## Conditions and Loops\n",
    "\n",
    "A condition statement is a statement that if a condition\n",
    "evaluates to true, then the block of code below it will\n",
    "execute.\n",
    "\n",
    "Important Note: A block of code is the section of code\n",
    "that is indented after the colon. \n",
    "\n",
    "Here is a first example of the if-statement. It will combine the concept of\n",
    "Booleans and control flow."
   ]
  },
  {
   "cell_type": "code",
   "execution_count": null,
   "metadata": {},
   "outputs": [],
   "source": [
    "a= False\n",
    "if a==True:\n",
    "    print('Welcome to our class !! ')## This is part of the block under if condition\n",
    "    print('Helloo Python') ## This is also part of the block under the if condition\n",
    "    "
   ]
  },
  {
   "cell_type": "markdown",
   "metadata": {},
   "source": [
    "#### Note\n",
    "The comparison signs for python are as follow\n",
    "\n",
    "1.  $<=$ -- Less or equal to\n",
    "2. $>$ -- Les\n",
    "3. $>=$ -- Greater or equal to \n",
    "4. $>$ -- Greater\n",
    "5. $==$ -- Equal to ..[is]\n",
    "6. $!=$  -- Not equal to"
   ]
  },
  {
   "cell_type": "markdown",
   "metadata": {},
   "source": []
  },
  {
   "cell_type": "code",
   "execution_count": null,
   "metadata": {},
   "outputs": [],
   "source": [
    "## Use the input fuction to promt the user to enter a integer number to compare\n",
    "## Elif is a nested fuction read as Else if... it means another if condition\n",
    "a=int(input('Input the first check number  ')) \n",
    "b=int(input('Input the second check number  '))\n",
    "\n",
    "if a==b:\n",
    "    print(\" They are equal\")\n",
    "elif a>b:\n",
    "    print(\"A is greater\")\n",
    "else:\n",
    "    print(\"B is Greater\")"
   ]
  },
  {
   "cell_type": "markdown",
   "metadata": {},
   "source": [
    "Applying the IF condition to search for a value in a python dictionary"
   ]
  },
  {
   "cell_type": "code",
   "execution_count": null,
   "metadata": {},
   "outputs": [],
   "source": [
    "dict1 =\t{\n",
    "  \"brand\": \"Ford\",\n",
    "  \"model\": \"Mustang\",\n",
    "  \"year\": 1964\n",
    "}\n",
    "if \"car\" in dict1:\n",
    "  print(\"Yes, 'model' is one of the keys in the dict1 dictionary\")\n",
    "else:\n",
    "    print('Not Available')\n"
   ]
  },
  {
   "cell_type": "code",
   "execution_count": null,
   "metadata": {},
   "outputs": [],
   "source": [
    "dict1"
   ]
  },
  {
   "cell_type": "code",
   "execution_count": null,
   "metadata": {},
   "outputs": [],
   "source": [
    "studentData = {\n",
    "    'name' : ['jack', 'Riti', 'Aadi'],\n",
    "    'age' : [34, 30, 16],\n",
    "    'city' : ['Sydney', 'Delhi', 'New york']\n",
    "}\n",
    "\n",
    "import pandas as pd\n",
    "df=pd.DataFrame(studentData)\n",
    "df"
   ]
  },
  {
   "cell_type": "code",
   "execution_count": null,
   "metadata": {},
   "outputs": [],
   "source": [
    "studentData"
   ]
  },
  {
   "cell_type": "code",
   "execution_count": null,
   "metadata": {},
   "outputs": [],
   "source": [
    "df.columns"
   ]
  },
  {
   "cell_type": "code",
   "execution_count": null,
   "metadata": {},
   "outputs": [],
   "source": [
    "## Application\n",
    "## Combining if and for function in dataframes\n",
    "## Here we are checking for the name age in the columns and changing it to How old while other remain unchange\n",
    "df.columns=[\"How_Old\" if name=='age' else name for name in df.columns]\n",
    "df"
   ]
  },
  {
   "cell_type": "markdown",
   "metadata": {},
   "source": [
    "#### Iteration\n",
    "##### Using for loop\n",
    "Use a for loop when you need to repeat some code a certain\n",
    "number of times"
   ]
  },
  {
   "cell_type": "code",
   "execution_count": null,
   "metadata": {},
   "outputs": [],
   "source": [
    "## Note the indention\n",
    "for x in range(1,5):\n",
    "\n",
    "    print (x)\n",
    "\n",
    "\n",
    "print('Done')"
   ]
  },
  {
   "cell_type": "markdown",
   "metadata": {},
   "source": [
    "The range funtion returns the integers between 0 and what you input in the function\n",
    "\n",
    "Not the following returs the same output"
   ]
  },
  {
   "cell_type": "code",
   "execution_count": null,
   "metadata": {},
   "outputs": [],
   "source": [
    "list(range(0,5))\n",
    "list(range(5))"
   ]
  },
  {
   "cell_type": "markdown",
   "metadata": {},
   "source": [
    "For loops use an indented code block exactly like\n",
    "if statements do.\n",
    "\n",
    "For loops can also be used to run through each letter of a string\n",
    "value in turn:\n"
   ]
  },
  {
   "cell_type": "code",
   "execution_count": null,
   "metadata": {},
   "outputs": [],
   "source": [
    "language='python'\n",
    "for letter in language:\n",
    " print ('Letter: ',letter)"
   ]
  },
  {
   "cell_type": "markdown",
   "metadata": {},
   "source": [
    "##### while loops\n",
    "Use a while loop when you need to repeat some code until\n",
    "a condition is met"
   ]
  },
  {
   "cell_type": "code",
   "execution_count": null,
   "metadata": {},
   "outputs": [],
   "source": [
    "count=1\n",
    "while count<=5:\n",
    " print (count)\n",
    " count=count+1\n",
    "print('Done')"
   ]
  },
  {
   "cell_type": "code",
   "execution_count": null,
   "metadata": {},
   "outputs": [],
   "source": [
    "## You can exit out of a while loop early using break\n",
    "count=1\n",
    "while count<=10:\n",
    " print (count)\n",
    " count=count+1\n",
    " if count==6:\n",
    "     break\n",
    "print('Done')\n"
   ]
  },
  {
   "cell_type": "markdown",
   "metadata": {},
   "source": [
    "## Task.\n",
    "create a simple 'roll the dice game' where two players take turns rolling the dice 5 times. In the end the player with most wins is the final winner. You can edit the number of rounds in the 'for' loop for more fun. I hope you enjoy it.\n",
    "\n",
    "I will share the code for the game in the next class"
   ]
  },
  {
   "cell_type": "code",
   "execution_count": null,
   "metadata": {},
   "outputs": [],
   "source": []
  }
 ],
 "metadata": {
  "kernelspec": {
   "display_name": "Python 3",
   "language": "python",
   "name": "python3"
  },
  "language_info": {
   "codemirror_mode": {
    "name": "ipython",
    "version": 3
   },
   "file_extension": ".py",
   "mimetype": "text/x-python",
   "name": "python",
   "nbconvert_exporter": "python",
   "pygments_lexer": "ipython3",
   "version": "3.7.3"
  }
 },
 "nbformat": 4,
 "nbformat_minor": 2
}
